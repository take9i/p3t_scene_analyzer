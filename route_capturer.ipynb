{
 "cells": [
  {
   "cell_type": "code",
   "execution_count": null,
   "metadata": {},
   "outputs": [],
   "source": [
    "%%bash\n",
    "ogr2ogr -f GPKG -nln rdcl -oo ENCODING=CP932 tokyo_west.gpkg ../../../_data/gsi_nummap/533945/DKG-SHP-533945-RdCL-20180829-0001.shp\n",
    "ogr2ogr -f GPKG -update -append -nln rdedg -oo ENCODING=CP932 tokyo_west.gpkg ../../../_data/gsi_nummap/533945/DKG-SHP-533945-RdEdg-20180829-0001.shp "
   ]
  },
  {
   "cell_type": "code",
   "execution_count": null,
   "metadata": {},
   "outputs": [],
   "source": [
    "import geopandas as gpd\n",
    "import pandas as pd\n",
    "\n",
    "# create mcdonalds.json by web developer tools with company site\n",
    "df = pd.read_json('./data/mcdonalds_231104.json')\n",
    "gdf = gpd.GeoDataFrame(df, geometry=gpd.points_from_xy(df.longitude, df.latitude))\n",
    "gdf = gdf.drop(['condition_values'], axis=1)\n",
    "gdf.to_file('./data/mcdonalds_231104.geojson', driver='GeoJSON')"
   ]
  },
  {
   "cell_type": "code",
   "execution_count": null,
   "metadata": {},
   "outputs": [],
   "source": []
  },
  {
   "cell_type": "code",
   "execution_count": null,
   "metadata": {},
   "outputs": [],
   "source": [
    "import geopandas as gpd\n",
    "from shapely.geometry import LineString\n",
    "\n",
    "# made tour_of_mcd.geojson on QGIS with selsman ploblem plugin\n",
    "mcd_df = gpd.read_file('./data/tour_of_mcd.geojson')\n",
    "geoms = mcd_df.geometry\n",
    "ngeoms = [geoms[0]]\n",
    "for i in range(len(geoms) - 1):\n",
    "    c0, c1 = ngeoms[i].coords[0], ngeoms[i].coords[-1]\n",
    "    n0, n1 = geoms[i+1].coords[0], geoms[i+1].coords[-1]\n",
    "    if c1 == n0:\n",
    "        ngeoms.append(geoms[i+1])\n",
    "    elif c1 == n1:\n",
    "        ngeoms.append(geoms[i+1].reverse())\n",
    "    else:\n",
    "        assert False, (i, c0, c1, n0, n1)\n",
    "route = LineString(sum([g.coords[:] for g in ngeoms], []))\n",
    "gpd.GeoDataFrame({'geometry': [route]}).to_file('_route.geojson', driver='GeoJSON')"
   ]
  },
  {
   "cell_type": "code",
   "execution_count": null,
   "metadata": {},
   "outputs": [],
   "source": [
    "import geopandas as gpd\n",
    "from shapely.geometry import LineString\n",
    "\n",
    "route = gpd.read_file('_route.geojson').geometry[0]"
   ]
  },
  {
   "cell_type": "code",
   "execution_count": null,
   "metadata": {},
   "outputs": [],
   "source": [
    "from pyproj import Transformer\n",
    "import math\n",
    "\n",
    "def get_camera_params(route, pitch=-40, the_range=300, step_meter=100, front_pad=10):\n",
    "    def get_heading(p, q):\n",
    "        p, q = p.coords[0], q.coords[0]\n",
    "        dx, dy = q[0] - p[0], q[1] - p[1]\n",
    "        r = math.atan2(dy, dx) * 180 / math.pi\n",
    "        return int(round(90 - r))\n",
    "\n",
    "    transformer = Transformer.from_crs('EPSG:4612', 'EPSG:2451', always_xy=True)\n",
    "    rtransformer = Transformer.from_crs('EPSG:2451', 'EPSG:4612', always_xy=True)\n",
    "\n",
    "    m_route = LineString(transformer.itransform(route.coords))\n",
    "    distances = [l for l in range(20, int(m_route.length), step_meter)]\n",
    "    locations = list(rtransformer.itransform([m_route.interpolate(l).coords[0] for l in distances]))\n",
    "    headings = [get_heading(m_route.interpolate(l), m_route.interpolate(l + front_pad)) for l in distances]\n",
    "    # return [in zip(locations, headings)]\n",
    "    return [(lon, lat, heading, pitch, the_range) for (lon, lat), heading in zip(locations, headings)]\n",
    "\n",
    "camera_params = get_camera_params(route, -10, the_range=25)"
   ]
  },
  {
   "cell_type": "code",
   "execution_count": null,
   "metadata": {},
   "outputs": [],
   "source": [
    "from os import makedirs\n",
    "import time\n",
    "import requests\n",
    "from selenium import webdriver\n",
    "from selenium.webdriver.chrome.service import Service\n",
    "from selenium.webdriver.chrome.options import Options\n",
    "\n",
    "chrome_driver_path = r'/Users/suika/Projects/GPTxGIS/codes/capturer/chromedriver-mac-arm64/chromedriver'\n",
    "\n",
    "service = Service(chrome_driver_path)\n",
    "options = Options()\n",
    "# options.add_argument(\"--headless\") # ヘッドレスモードオプションの例\n",
    "driver = webdriver.Chrome(service=service, options=options)\n",
    "\n",
    "scene = 'mcd_shinjuku'\n",
    "makedirs(f'_batch_analyzed/{scene}/src_images', exist_ok=True)\n",
    "makedirs(f'_batch_analyzed/{scene}/json', exist_ok=True)\n",
    "for i, (lon, lat, h, p, r) in enumerate(camera_params):\n",
    "    url = f'http://localhost:5173/?lat={lat}&lon={lon}&heading={h}&pitch={p}&range={r}'\n",
    "    driver.get(url)\n",
    "    time.sleep(10)\n",
    "    fpath = f'_batch_analyzed/{scene}/src_images/{scene}_{p}_{r}_{i}.png'\n",
    "    driver.save_screenshot(fpath)\n",
    "    r = requests.post(\n",
    "        'http://127.0.0.1:5000/analyze', \n",
    "        files={'file': open(fpath,'rb')}, \n",
    "        data={'lon': lon, 'lat': lat, 'heading': h, 'pitch': p, 'range': r}\n",
    "    )\n",
    "driver.quit()"
   ]
  },
  {
   "cell_type": "code",
   "execution_count": null,
   "metadata": {},
   "outputs": [],
   "source": [
    "[1,2] + [3]"
   ]
  },
  {
   "cell_type": "code",
   "execution_count": null,
   "metadata": {},
   "outputs": [],
   "source": []
  }
 ],
 "metadata": {
  "kernelspec": {
   "display_name": ".venv",
   "language": "python",
   "name": "python3"
  },
  "language_info": {
   "codemirror_mode": {
    "name": "ipython",
    "version": 3
   },
   "file_extension": ".py",
   "mimetype": "text/x-python",
   "name": "python",
   "nbconvert_exporter": "python",
   "pygments_lexer": "ipython3",
   "version": "3.10.5"
  }
 },
 "nbformat": 4,
 "nbformat_minor": 2
}
