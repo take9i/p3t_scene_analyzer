{
 "cells": [
  {
   "cell_type": "code",
   "execution_count": null,
   "metadata": {},
   "outputs": [],
   "source": [
    "import pandas as pd\n",
    "import geopandas as gpd\n",
    "from shapely.geometry import Point"
   ]
  },
  {
   "cell_type": "code",
   "execution_count": null,
   "metadata": {},
   "outputs": [],
   "source": [
    "df = pd.read_json('http://localhost:5000/analyzed/whole-json', dtype={'name': 'str'})\n",
    "df['geometry'] = df.apply(lambda r: Point(r.lon, r.lat), axis=1)\n",
    "df.drop(['lat', 'lon'], axis=1, inplace=True)\n",
    "gdf = gpd.GeoDataFrame(df, geometry='geometry', crs=4326)\n",
    "# gdf\n",
    "gdf.describe()"
   ]
  },
  {
   "cell_type": "code",
   "execution_count": null,
   "metadata": {},
   "outputs": [],
   "source": [
    "import folium\n",
    "import branca\n",
    "\n",
    "map = folium.Map(location=[35, 139], zoom_start=7)\n",
    "fg = folium.FeatureGroup(name=\"Pika\")\n",
    "for n, row in df[[u'geometry', u'name', u'height']].iterrows():\n",
    "    p, n, h = row[u'geometry'], row[u'name'], row[u'height']\n",
    "    html = f'{n}<img src=\"http://localhost:5000/analyzed/image/{n}.png\" width=\"400\" />'\n",
    "    iframe = branca.element.IFrame(html=html, width=400, height=350)\n",
    "    marker = folium.Marker(location=(p.y, p.x), popup=folium.Popup(iframe, max_width=400))\n",
    "    fg.add_child(marker)\n",
    "map.add_child(fg)\n",
    "map"
   ]
  },
  {
   "cell_type": "code",
   "execution_count": null,
   "metadata": {},
   "outputs": [],
   "source": [
    "from IPython.display import display, HTML\n",
    "from ipywidgets import IntRangeSlider, interactive\n",
    "\n",
    "pitcher = IntRangeSlider(value=[-90, 0], min=-90, max=10, step=1)\n",
    "adf = gdf\n",
    "\n",
    "def on_value_change(pitch_range):\n",
    "    p_min, p_max = pitch_range\n",
    "    global adf\n",
    "    adf = gdf[(p_min<=gdf.pitch)&(gdf.pitch<p_max)]\n",
    "    urls = adf.name.apply(lambda n: f'http://localhost:5000/analyzed/image/{n}.png').to_list()\n",
    "    imgs = [f\"<img style='width: 300px; margin: 0px; float: left; border: 1px solid black;' src='{url}' />\" for url in urls]\n",
    "    display(HTML(''.join(imgs)))\n",
    "\n",
    "interactive(on_value_change, pitch_range=pitcher)\n"
   ]
  },
  {
   "cell_type": "code",
   "execution_count": null,
   "metadata": {},
   "outputs": [],
   "source": [
    "import json\n",
    "import matplotlib.pyplot as plt\n",
    "\n",
    "classes = json.load(open('cityscapes_labels.json'))['classes'][:-1]\n",
    "cols = 3\n",
    "bdf = adf.reset_index(drop=True)\n",
    "fig, axes = plt.subplots(len(bdf)//cols+1, cols)\n",
    "for i in bdf.index:\n",
    "    axes[i//cols, i%cols].bar(classes, bdf.iloc[i].histogram)"
   ]
  }
 ],
 "metadata": {
  "kernelspec": {
   "display_name": ".venv",
   "language": "python",
   "name": "python3"
  },
  "language_info": {
   "codemirror_mode": {
    "name": "ipython",
    "version": 3
   },
   "file_extension": ".py",
   "mimetype": "text/x-python",
   "name": "python",
   "nbconvert_exporter": "python",
   "pygments_lexer": "ipython3",
   "version": "3.10.5"
  }
 },
 "nbformat": 4,
 "nbformat_minor": 2
}
